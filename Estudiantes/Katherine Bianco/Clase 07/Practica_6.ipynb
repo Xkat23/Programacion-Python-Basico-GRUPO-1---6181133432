{
 "cells": [
  {
   "cell_type": "markdown",
   "id": "3127ae9d",
   "metadata": {},
   "source": [
    "# CLASE 07 Creación de Arrays\n",
    "## Prof. Andrés Mena Abarca\n",
    "### Estudiantes: Katherine Bianco V.\n",
    "url:https://github.com/Xkat23/Programacion-Python-Basico-GRUPO-1---6181133432/blob/4e1bf5628f80df89afc3cbf00ad64f3e6b54a107/Estudiantes/Katherine%20Bianco/Clase%2007/Practica_6.ipynb"
   ]
  },
  {
   "cell_type": "markdown",
   "id": "4075b2ab",
   "metadata": {},
   "source": [
    "### Crear un array a partir de una lista"
   ]
  },
  {
   "cell_type": "code",
   "execution_count": 6,
   "id": "98fafc10",
   "metadata": {},
   "outputs": [
    {
     "name": "stdout",
     "output_type": "stream",
     "text": [
      "2.2.2\n"
     ]
    }
   ],
   "source": [
    "import numpy as np\n",
    "\n",
    "\n"
   ]
  },
  {
   "cell_type": "markdown",
   "id": "0e8e40b3",
   "metadata": {},
   "source": [
    "### Crear un array de ceros de tamaño 5x5"
   ]
  },
  {
   "cell_type": "code",
   "execution_count": 8,
   "id": "043e0131",
   "metadata": {},
   "outputs": [
    {
     "name": "stdout",
     "output_type": "stream",
     "text": [
      "[[0. 0. 0. 0. 0.]\n",
      " [0. 0. 0. 0. 0.]\n",
      " [0. 0. 0. 0. 0.]\n",
      " [0. 0. 0. 0. 0.]\n",
      " [0. 0. 0. 0. 0.]]\n"
     ]
    }
   ],
   "source": [
    "#Código crear un array de ceros de tamaño 5x5\n",
    "array_ceros = np.zeros((5,5))\n",
    "print(array_ceros)\n"
   ]
  },
  {
   "cell_type": "markdown",
   "id": "a640f233",
   "metadata": {},
   "source": [
    "### Crear un array de unos de tamaño 3x3"
   ]
  },
  {
   "cell_type": "code",
   "execution_count": 15,
   "id": "ac2b7096",
   "metadata": {},
   "outputs": [
    {
     "name": "stdout",
     "output_type": "stream",
     "text": [
      "[[1. 1. 1.]\n",
      " [1. 1. 1.]\n",
      " [1. 1. 1.]\n",
      " [1. 1. 1.]\n",
      " [1. 1. 1.]]\n"
     ]
    }
   ],
   "source": [
    "#Código crear un array de unos de tamaño 3x3\n",
    "array_unos = np.ones((5,3))\n",
    "print(array_unos)\n",
    "\n"
   ]
  },
  {
   "cell_type": "markdown",
   "id": "5ff1ca1e",
   "metadata": {},
   "source": [
    "### Crear un array con valores espaciados uniformemente de 0 a 9"
   ]
  },
  {
   "cell_type": "code",
   "execution_count": 19,
   "id": "60cefb4b",
   "metadata": {},
   "outputs": [
    {
     "name": "stdout",
     "output_type": "stream",
     "text": [
      "[0. 1. 2. 3. 4. 5. 6. 7. 8. 9.]\n"
     ]
    }
   ],
   "source": [
    "#Código rear un array con valores espaciados uniformemente de 0 a 9\n",
    "array_linear = np.linspace(0,9,10)\n",
    "print(array_linear)\n"
   ]
  },
  {
   "cell_type": "markdown",
   "id": "af014afb",
   "metadata": {},
   "source": [
    "### #Crear un array con 6 valores espaciados linealmente entre 0 y 1\n"
   ]
  },
  {
   "cell_type": "code",
   "execution_count": 21,
   "id": "5ba6f502",
   "metadata": {},
   "outputs": [
    {
     "name": "stdout",
     "output_type": "stream",
     "text": [
      "[0.  0.2 0.4 0.6 0.8 1. ]\n"
     ]
    }
   ],
   "source": [
    "#Código crear un array con 6 valores espaciados linealmente entre 0 y 1\n",
    "array_reto = np.linspace(0,1,6)\n",
    "print(array_reto)"
   ]
  },
  {
   "cell_type": "markdown",
   "id": "90ed91a1",
   "metadata": {},
   "source": [
    "# Operaciones Básicas"
   ]
  },
  {
   "cell_type": "markdown",
   "id": "b000074f",
   "metadata": {},
   "source": [
    "### Realizar una suma, resta, multiplicación y división entre dos arrays"
   ]
  },
  {
   "cell_type": "code",
   "execution_count": 29,
   "id": "ff348071",
   "metadata": {},
   "outputs": [
    {
     "name": "stdout",
     "output_type": "stream",
     "text": [
      "[56 44 29]\n",
      "[44 36 11]\n",
      "[300 160 180]\n",
      "[ 8.33333333 10.          2.22222222]\n"
     ]
    }
   ],
   "source": [
    "array_salario = np.array([50,40,20])\n",
    "array_propinas = np.array([6,4,9])\n",
    "\n",
    "#Código realizar una suma, resta, multiplicación y división entre dos arrays\n",
    "\n",
    "# Salida\n",
    "'''\n",
    "print(\"La suma es: \",suma)\n",
    "print(\"La resta es: \",resta)\n",
    "print(\"La multiplicacion es: \",multiplicacion)\n",
    "print(\"La division es: \",division)\n",
    "'''\n",
    "suma = array_salario + array_propinas\n",
    "resta = array_salario - array_propinas\n",
    "multi = array_salario * array_propinas\n",
    "division = array_salario / array_propinas\n",
    "print(suma)\n",
    "print(resta)\n",
    "print(multi)\n",
    "print(division)"
   ]
  },
  {
   "cell_type": "code",
   "execution_count": 32,
   "id": "d3fbf4df",
   "metadata": {},
   "outputs": [
    {
     "name": "stdout",
     "output_type": "stream",
     "text": [
      "[[56 44 29]\n",
      " [ 8  7 13]]\n",
      "[[44 36 11]\n",
      " [-4 -1 -5]]\n",
      "[[300 160 180]\n",
      " [ 12  12  36]]\n",
      "[[ 8.33333333 10.          2.22222222]\n",
      " [ 0.33333333  0.75        0.44444444]]\n"
     ]
    }
   ],
   "source": [
    "array_salario = np.array([[50,40,20], [2,3,4]])\n",
    "array_propinas = np.array([6,4,9])\n",
    "\n",
    "#Código realizar una suma, resta, multiplicación y división entre dos arrays\n",
    "\n",
    "# Salida\n",
    "'''\n",
    "print(\"La suma es: \",suma)\n",
    "print(\"La resta es: \",resta)\n",
    "print(\"La multiplicacion es: \",multiplicacion)\n",
    "print(\"La division es: \",division)\n",
    "'''\n",
    "suma = array_salario + array_propinas\n",
    "resta = array_salario - array_propinas\n",
    "multi = array_salario * array_propinas\n",
    "division = array_salario / array_propinas\n",
    "print(suma)\n",
    "print(resta)\n",
    "print(multi)\n",
    "print(division)"
   ]
  },
  {
   "cell_type": "code",
   "execution_count": 33,
   "id": "a270ae97",
   "metadata": {},
   "outputs": [],
   "source": [
    "#Calcular el producto punto de dos arrays\n"
   ]
  },
  {
   "cell_type": "code",
   "execution_count": null,
   "id": "dddd8ba1",
   "metadata": {},
   "outputs": [],
   "source": [
    "#Transponer un array\n"
   ]
  },
  {
   "cell_type": "markdown",
   "id": "5e44ba57",
   "metadata": {},
   "source": [
    "# Operaciones Estadísticas"
   ]
  },
  {
   "cell_type": "code",
   "execution_count": 41,
   "id": "7f3e6efd",
   "metadata": {},
   "outputs": [
    {
     "name": "stdout",
     "output_type": "stream",
     "text": [
      "La media aritmetica es: 3.0\n",
      "La suma de la coleccion de datos es: 15\n",
      "El min de la coleccion de datos es: 1\n",
      "El max de la coleccion de datos es: 5\n"
     ]
    },
    {
     "data": {
      "text/plain": [
       "'\\n# Mostrar los resultados\\nprint(\"La media es:\", media)\\nprint(\"La suma es:\", suma)\\nprint(\"El valor mínimo es:\", valor_minimo)\\nprint(\"El valor máximo es:\", valor_maximo)\\n'"
      ]
     },
     "execution_count": 41,
     "metadata": {},
     "output_type": "execute_result"
    }
   ],
   "source": [
    "#Calcular la media, suma, valor mínimo y valor máximo de un array\n",
    "\n",
    "\n",
    "# Crear un array NumPy\n",
    "array_numeros = np.array([5, 2, 4, 1, 3])\n",
    "\n",
    "\n",
    "# Calcular la media\n",
    "media = np.mean(array_numeros)\n",
    "print(f'La media aritmetica es: {media}')\n",
    "\n",
    "# Calcular la suma\n",
    "suma = np.sum(array_numeros)\n",
    "print(f'La suma de la coleccion de datos es: {suma}')\n",
    "\n",
    "# Calcular el valor mínimo\n",
    "minimo = np.min(array_numeros)\n",
    "print(f'El min de la coleccion de datos es: {minimo}')\n",
    "\n",
    "# Calcular el valor máximo\n",
    "maximo = np.max(array_numeros)\n",
    "print(f'El max de la coleccion de datos es: {maximo}')\n",
    "\n",
    "'''\n",
    "# Mostrar los resultados\n",
    "print(\"La media es:\", media)\n",
    "print(\"La suma es:\", suma)\n",
    "print(\"El valor mínimo es:\", valor_minimo)\n",
    "print(\"El valor máximo es:\", valor_maximo)\n",
    "'''\n"
   ]
  },
  {
   "cell_type": "code",
   "execution_count": 43,
   "id": "f6264d86",
   "metadata": {},
   "outputs": [
    {
     "name": "stdout",
     "output_type": "stream",
     "text": [
      "[[1 2 3]\n",
      " [4 5 6]]\n"
     ]
    },
    {
     "data": {
      "text/plain": [
       "'\\n# Imprimir el array original y el reshapeado\\nprint(\"Array original:\", array_original)\\nprint(\"Array reshapeado:\", array_reshapeado)\\n'"
      ]
     },
     "execution_count": 43,
     "metadata": {},
     "output_type": "execute_result"
    }
   ],
   "source": [
    "#Cambiar la forma de un array \"reshape\"\n",
    "\n",
    "\n",
    "# Crear un array original\n",
    "array_original = np.array([1, 2, 3, 4, 5, 6])\n",
    "\n",
    "# Nueva forma deseada (2 filas y 3 columnas)\n",
    "array_reshapeado = array_original.reshape(2,3)\n",
    "print(array_reshapeado)\n",
    "\n",
    "'''\n",
    "# Imprimir el array original y el reshapeado\n",
    "print(\"Array original:\", array_original)\n",
    "print(\"Array reshapeado:\", array_reshapeado)\n",
    "'''"
   ]
  },
  {
   "cell_type": "markdown",
   "id": "195c5f6d",
   "metadata": {},
   "source": [
    "# Álgebra Lineal"
   ]
  },
  {
   "cell_type": "markdown",
   "id": "b920534e",
   "metadata": {},
   "source": [
    "### Calcular el determinante de una matriz 2x2"
   ]
  },
  {
   "cell_type": "code",
   "execution_count": null,
   "id": "d01ce9f8",
   "metadata": {},
   "outputs": [],
   "source": [
    "nuevo_array = np.array([[1,2],[2,5]])\n",
    "\n",
    "#Código para calcular el determinante de una matriz 2x2\n",
    "\n",
    "#print(determinante)"
   ]
  },
  {
   "cell_type": "markdown",
   "id": "b1325b2b",
   "metadata": {},
   "source": [
    "### Calcular la matriz inversa de una matriz 3x3"
   ]
  },
  {
   "cell_type": "code",
   "execution_count": null,
   "id": "9782d614",
   "metadata": {},
   "outputs": [],
   "source": [
    "# Definir la matriz 3x3\n",
    "\n",
    "\n",
    "# Calcular la matriz inversa\n",
    "\n",
    "\n",
    "# Imprimir la matriz inversa\n",
    "\n"
   ]
  },
  {
   "cell_type": "markdown",
   "id": "98f0cfc8",
   "metadata": {},
   "source": [
    "### Calcular los valores propios y vectores propios de una matriz 4x4"
   ]
  },
  {
   "cell_type": "code",
   "execution_count": null,
   "id": "07211323",
   "metadata": {},
   "outputs": [],
   "source": [
    "\n",
    "# Definir la matriz 4x4\n",
    "matriz_4x4 = np.array([[1, 2, 3, 4], [5, 6, 7, 8], [9, 10, 11, 12], [13, 14, 15, 16]])\n",
    "\n",
    "# Calcular valores propios y vectores propios\n",
    "\n",
    "\n",
    "# Separar valores propios y vectores propios\n",
    " # Parte real de los valores propios complejos\n",
    "  # Parte real de los vectores propios complejos\n",
    "\n",
    "# Imprimir resultados\n",
    "'''\n",
    "print(\"Valores propios:\", autovalores)\n",
    "print(\"Vectores propios:\")\n",
    "for i in range(len(autovectores)):\n",
    "    print(f\"Vector propio {i+1}:\", autovectores[i])\n",
    "'''"
   ]
  },
  {
   "cell_type": "markdown",
   "id": "efd4320a",
   "metadata": {},
   "source": [
    "# Funciones Universales"
   ]
  },
  {
   "cell_type": "code",
   "execution_count": null,
   "id": "b6104243",
   "metadata": {},
   "outputs": [],
   "source": [
    "# Crear un array con ángulos\n",
    "array_angulos = np.array([0, np.pi/2, np.pi])\n",
    "\n",
    "# Calcular el seno de los ángulos\n",
    "\n",
    "\n",
    "# Calcular el coseno de los ángulos\n",
    "\n",
    "\n",
    "# Calcular la exponencial de los ángulos\n",
    "\n",
    "\n",
    "# Calcular el logaritmo natural de los ángulos\n",
    "\n",
    "\n"
   ]
  },
  {
   "cell_type": "code",
   "execution_count": null,
   "id": "eadbf298",
   "metadata": {},
   "outputs": [],
   "source": [
    "#Realizar indexación y slicing en un array 2D\n",
    "array_2d = np.array([[1, 2, 3], [4, 5, 6], [7, 8, 9]])\n",
    "\n",
    "\n",
    "# Obtener la primera fila del array\n",
    "\n",
    "\n",
    "# Obtener la última columna del array\n",
    "  # [3, 6, 9]\n",
    "\n",
    "# Obtener una submatriz que contiene la segunda fila y las dos primeras columnas\n",
    "  # [4, 5]\n",
    "\n",
    "# Imprimir los subconjuntos de datos extraídos\n"
   ]
  },
  {
   "cell_type": "markdown",
   "id": "38fb3e51",
   "metadata": {},
   "source": [
    "# Generación de Números Aleatorios"
   ]
  },
  {
   "cell_type": "code",
   "execution_count": null,
   "id": "4c9439b1",
   "metadata": {},
   "outputs": [],
   "source": [
    "#Generar un array de 10 números enteros aleatorios entre 1 y 100\n"
   ]
  },
  {
   "cell_type": "code",
   "execution_count": null,
   "id": "7b67e54f",
   "metadata": {},
   "outputs": [],
   "source": [
    "#Generar una matriz 2x3 con números aleatorios uniformemente distribuidos entre 0 y 1\n"
   ]
  },
  {
   "cell_type": "code",
   "execution_count": null,
   "id": "bc4519a1",
   "metadata": {},
   "outputs": [],
   "source": [
    "#Generar un array de 5 números aleatorios con distribución normal (media 0, desviación estándar 1)\n",
    "\n"
   ]
  },
  {
   "cell_type": "markdown",
   "id": "07c6ca7f",
   "metadata": {},
   "source": [
    "## Ejercicos reales o prácticos"
   ]
  },
  {
   "cell_type": "code",
   "execution_count": 51,
   "id": "b0582c6d",
   "metadata": {},
   "outputs": [
    {
     "name": "stdout",
     "output_type": "stream",
     "text": [
      "Similitud de preferencias Avatar: 89\n",
      "Similitud de preferencias Brave Heart: 79\n",
      "Recomendamos Avatar\n"
     ]
    }
   ],
   "source": [
    "mariana = np.array([7,9,2])\n",
    "\n",
    "\n",
    "avatar = np.array([10,1,5]) #Mas accion y menos comedia\n",
    "brave_heart = np.array([8,1,7]) # Mas accion y menos accion\n",
    "\n",
    "\n",
    "#Calcular la similitud de cada pelicula con los gusto de Mariana\n",
    "\n",
    "\n",
    "similitud_p1 = np.dot(mariana,avatar)\n",
    "similitud_p2 = np.dot(mariana,brave_heart)\n",
    "\n",
    "\n",
    "print(f'Similitud de preferencias Avatar: {similitud_p1}')\n",
    "print(f'Similitud de preferencias Brave Heart: {similitud_p2}')\n",
    "\n",
    "\n",
    "if similitud_p1 > similitud_p2:\n",
    "    print('Recomendamos Avatar')\n",
    "else:\n",
    "    print('Recomendamos Brave Heart')"
   ]
  },
  {
   "cell_type": "markdown",
   "id": "7dc8dafb",
   "metadata": {},
   "source": [
    "## Caso de estudio Correlación"
   ]
  },
  {
   "cell_type": "code",
   "execution_count": 55,
   "id": "c1a13531",
   "metadata": {},
   "outputs": [
    {
     "name": "stdout",
     "output_type": "stream",
     "text": [
      "Coeficiente de corelacion: 0.02\n"
     ]
    }
   ],
   "source": [
    "import numpy as np\n",
    "\n",
    "#Dtos Tipo Cambio de Dolar Ultimos 10 meses | IPC, metrica mensual\n",
    "\n",
    "tipo_cambio = np.array([506.96,505.00,504.27,505.27,506.23,506.58,506.90,505.5,506.40,505.34])\n",
    "ipc = ([109.46,109.55,109.71,109.33,109.54,109.56,109.36,110.39,110.79,109.36])\n",
    "\n",
    "#Calcular coeficiente de correlacion\n",
    "correlacion = np.corrcoef(tipo_cambio,ipc)[0,1]\n",
    "print(f'Coeficiente de corelacion: {correlacion:.2f}') #.2f es para disminuir la cantidad de decimales"
   ]
  },
  {
   "cell_type": "markdown",
   "id": "104ab33e",
   "metadata": {},
   "source": [
    "## Caso 3 Estudio de Horas vrs Notas\n"
   ]
  },
  {
   "cell_type": "code",
   "execution_count": 59,
   "id": "cf6f73d3",
   "metadata": {},
   "outputs": [
    {
     "name": "stdout",
     "output_type": "stream",
     "text": [
      "[ 5  5  7  5  9  4  5 -1  2]\n",
      "4.555555555555555\n"
     ]
    }
   ],
   "source": [
    "#Datos: Horas de estudio y Notas obtenidas\n",
    "horas_estudio = np.array([1,2,3,3,4,4,5,6,5,6]) #Horas de estudio\n",
    "\n",
    "notas = np.array([50,55,60,67,72,81,85,90,89,91])#Notas Obtenidas\n",
    "\n",
    "#Calculo crecimiento del promedio del puntaje por hora de estudio\n",
    "diferencias_notas = np.diff(notas)#Diferencia entre notas consecutivas\n",
    "incremento_notas = np.mean(diferencias_notas)\n",
    "#Estimacion del puntaje si estudio 12 horas\n",
    "proyeccion_estudio = 12\n",
    "nota_estimada = horas_estudio - horas_estudio[-1]\n",
    "\n",
    "print(diferencias_notas)\n",
    "print(incremento_notas)\n"
   ]
  },
  {
   "cell_type": "code",
   "execution_count": 68,
   "id": "3ed348fb",
   "metadata": {},
   "outputs": [
    {
     "name": "stdout",
     "output_type": "stream",
     "text": [
      "El incremento del promedio 4.56\n",
      "118.33333333333333\n",
      "-0.11111111111110716\n"
     ]
    }
   ],
   "source": [
    "#Datos: Horas de estudio y Notas obtenidas\n",
    "horas_estudio = np.array([1,2,3,3,4,4,5,6,5,6]) #Horas de estudio\n",
    "\n",
    "notas = np.array([50,55,60,67,72,81,85,90,89,91])#Notas Obtenidas\n",
    "\n",
    "#Calculo crecimiento del promedio del puntaje por hora de estudio\n",
    "diferencias_notas = np.diff(notas)#Diferencia entre notas consecutivas\n",
    "incremento_notas = np.mean(diferencias_notas)\n",
    "\n",
    "#Estimacion del puntaje si estudio 12 horas\n",
    "proyeccion_estudio = 12\n",
    "\n",
    "nota_estimada = (proyeccion_estudio - horas_estudio[-1]) * incremento_notas + max(notas)\n",
    "nota_estimada_minimo = (min(horas_estudio) - proyeccion_estudio) * incremento_notas + min(notas)\n",
    "\n",
    "print(f'El incremento del promedio {incremento_notas:.2f}')\n",
    "print(nota_estimada)\n",
    "print(nota_estimada_minimo)\n"
   ]
  }
 ],
 "metadata": {
  "kernelspec": {
   "display_name": "Python 3",
   "language": "python",
   "name": "python3"
  },
  "language_info": {
   "codemirror_mode": {
    "name": "ipython",
    "version": 3
   },
   "file_extension": ".py",
   "mimetype": "text/x-python",
   "name": "python",
   "nbconvert_exporter": "python",
   "pygments_lexer": "ipython3",
   "version": "3.12.8"
  }
 },
 "nbformat": 4,
 "nbformat_minor": 5
}
