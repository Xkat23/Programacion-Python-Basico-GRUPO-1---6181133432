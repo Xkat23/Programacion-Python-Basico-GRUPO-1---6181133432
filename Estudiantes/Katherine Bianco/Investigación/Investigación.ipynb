{
 "cells": [
  {
   "cell_type": "markdown",
   "metadata": {},
   "source": [
    "# 📌 Exploración Teórica y Aplicación Práctica de las Funciones en Python\n",
    "## Autora: Katherine Bianco Vega\n",
    "### Fecha: 2025/02/13"
   ]
  },
  {
   "cell_type": "markdown",
   "metadata": {},
   "source": [
    "📌 Sección 1: Introducción\n",
    "• Incluir una breve introducción sobre el propósito del notebook y portada.\n",
    "• Explicar la importancia del uso de funciones en Python."
   ]
  },
  {
   "cell_type": "markdown",
   "metadata": {},
   "source": [
    "# Introducción\n",
    "El presente notebook tiene como objetivo estudiar las funciones de Python para poder conocer y aplicar sus caracteristicas, beneficios y aplicaciones en el entorno actual. A la vez se anotaran ejemplos de distintos tipos de funciones para poder ejemplificar el tema desarollado.\n",
    "\n",
    "# Importancia del uso de las funciones en Python.\n",
    "Las funciones en Pyhton pueden tener muchos beneficios ya que pueden mejorar la aplicación de código, modulación y escabilidad de los programas. Estas instrucciones que se dan por medio de bloques son capaces de crear tareas repetitivas de manera automatizada, asi como crear una funcion y que no tenga que escribirse un codigo cada vez que se va a utilizar. Además, por medio de estos bloques de funciones se puede organizar de manera mas adecuada el codigo y que sea legible."
   ]
  },
  {
   "cell_type": "markdown",
   "metadata": {},
   "source": [
    "\n",
    "## 📌 Sección 2: Investigación y ejemplos\n",
    "Investigar y documentar los siguientes temas dentro del notebook, explicándolos en Markdown y\n",
    "proporcionando ejemplos en Python.\n",
    "\n",
    "🔹 3.1 Definición y Propósito de las Funciones en Python\n",
    "\n",
    "✅ ¿Qué son las funciones?\n",
    "Se trata de un código utilizado para desarrollar programas en el lenguaje mencionado, para lo cual se deben emplear argumentos que son los datos que se utilizan en la función. En este tipo de funciones se pueden utilizar fórmulas o algoritmos matemáticos para obtener un resultado o salida.  \n",
    "\n",
    "✅ Beneficios de modularizar código con funciones. \n",
    "Reutilizacion del código. Es posible llamar las funciones repetidas veces, despues de haberse creado.\n",
    "\n",
    "Organización del código. Se ordena el código de manera mas legible.\n",
    "\n",
    "Facilidad de depuración. Es posible identificar los errores de manera adecuada.\n",
    "\n",
    "Facilidad de colaboración. Se puede colaborar de manera conjunta con otros desarrolladores.\n",
    "\n",
    "Facilidad de actualización. La actualización no afecta al resto del software.\n",
    "\n",
    "Facilidad de mantenimiento. Su organización y otras características benefician su mantenimiento.\n",
    "\n",
    "✅ Importancia de la reutilización del código.\n",
    "La reutilización de código puede ser de gran ventaja ya que permite ahorrar tiempo y trabajo a los programadores. Con el empleo se facilita y mejoran las condiciones para seguir con la programación y emplear tiempo en otro tipo de código."
   ]
  },
  {
   "cell_type": "markdown",
   "metadata": {},
   "source": [
    "🔹 3.2 Tipos de Funciones en Python\n",
    "Incluir una descripción y al menos un ejemplo de código para cada tipo de función:\n",
    "✅ Funciones con y sin retorno.\n",
    "✅ Funciones con parámetros y valores predeterminados.\n",
    "✅ Uso de *args y **kwargs.\n",
    "✅ Funciones anónimas (lambda).\n",
    "✅ Funciones recursivas.\n",
    "✅ Generadores (yield).\n",
    "✅ Closures y decoradores."
   ]
  },
  {
   "cell_type": "code",
   "execution_count": 5,
   "metadata": {},
   "outputs": [
    {
     "name": "stdout",
     "output_type": "stream",
     "text": [
      "-3\n",
      "600\n"
     ]
    }
   ],
   "source": [
    "#Funciones con y sin retorno.\n",
    "#Las funciones con retorno devuelven información un valor, si no tienen valor, devuelven un valor determinado, sin embargo si tienen return con un valor prederterninado. \n",
    "#con return\n",
    "def resta(a,b):\n",
    "    resultado = a - b\n",
    "    return resultado\n",
    "\n",
    "operación = resta(3,6)\n",
    "print(operación)\n",
    "\n",
    "#sin return\n",
    "def suma(a,b):\n",
    "    resultado = a + b\n",
    "    print(resultado)\n",
    "\n",
    "suma(500,100)"
   ]
  },
  {
   "cell_type": "code",
   "execution_count": 13,
   "metadata": {},
   "outputs": [
    {
     "name": "stdout",
     "output_type": "stream",
     "text": [
      "600\n"
     ]
    }
   ],
   "source": [
    "#Funciones con parámetros y valores predeterminados.\n",
    "#En este tipo de funciones se pueden establecer valores predeterminados de entrada, para que en el caso de que no hayan un valor sumnistrado, se use este.\n",
    "def suma(a,b=500):\n",
    "    resultado = a + b\n",
    "    print(resultado)\n",
    "    \n",
    "suma (100)"
   ]
  },
  {
   "cell_type": "code",
   "execution_count": 17,
   "metadata": {},
   "outputs": [
    {
     "name": "stdout",
     "output_type": "stream",
     "text": [
      "(3, 2, 4, 5, 6)\n",
      "La suma es: 20\n"
     ]
    }
   ],
   "source": [
    "#Uso de *args y **kwargs.\n",
    "#args (argumentos) es utilizado para introducir un sin limite de valores a una función. \n",
    "def numeros(*args):\n",
    "    print(args)\n",
    "\n",
    "numeros(3,2,4,5,6)\n",
    "    \n",
    "    \n",
    "#**kwargs (keyword arguments), estos llevan un valor por defecto. Su posición es indistinta.\n",
    "#Pueden pasar una cantidad variable de argumentos nombrados (clave-valor) a una función.\n",
    "def suma(**kwargs):\n",
    "    total = sum(kwargs.values())\n",
    "    return total\n",
    "    \n",
    "resultado = suma(a=3, b=2, c=4, d=5, f=6) \n",
    "print(f\"La suma es: {resultado}\")"
   ]
  },
  {
   "cell_type": "code",
   "execution_count": 18,
   "metadata": {},
   "outputs": [
    {
     "name": "stdout",
     "output_type": "stream",
     "text": [
      "8\n"
     ]
    }
   ],
   "source": [
    "#Funciones anónimas (lambda).\n",
    "#No cuentan con un nombre explicito, son funciones mas sencillas, pequeñas y rápidas. No requiere def.\n",
    "sumar = lambda a, b: a + b\n",
    "\n",
    "print(sumar(5, 3))"
   ]
  },
  {
   "cell_type": "code",
   "execution_count": 21,
   "metadata": {},
   "outputs": [
    {
     "name": "stdout",
     "output_type": "stream",
     "text": [
      "15\n"
     ]
    }
   ],
   "source": [
    "#Funciones recursivas.\n",
    "#Esta función se llama a si misma, se usa una condición de salida que detiene la recursión.\n",
    "def suma_numeros(n):\n",
    "    # caso base\n",
    "    if n ==1:\n",
    "        return 1\n",
    "    \n",
    "    else:\n",
    "        return n + suma_numeros(n-1)\n",
    "    \n",
    "print(suma_numeros(5))"
   ]
  },
  {
   "cell_type": "code",
   "execution_count": 27,
   "metadata": {},
   "outputs": [
    {
     "name": "stdout",
     "output_type": "stream",
     "text": [
      "5\n",
      "10\n",
      "15\n"
     ]
    }
   ],
   "source": [
    "#Generadores (yield).\n",
    "#Los generadores yield son capaces de devolver los resultados uno por uno.\n",
    "def generador_1():\n",
    "    yield 5\n",
    "    yield 10\n",
    "    yield 15\n",
    "    yield 20\n",
    "\n",
    "gen = generador_1()\n",
    "print(next(gen))  \n",
    "print(next(gen))\n",
    "print(next(gen))\n"
   ]
  },
  {
   "cell_type": "code",
   "execution_count": 28,
   "metadata": {},
   "outputs": [
    {
     "name": "stdout",
     "output_type": "stream",
     "text": [
      "15\n",
      "13\n",
      "18\n"
     ]
    }
   ],
   "source": [
    "#Closures y decoradores.\n",
    "#Closure utiliza de la funcion externa para la funcion interna. \n",
    "#Decoradores, se envuelve otra función para modificar su tarea.\n",
    "\n",
    "def suma_inicial(valor_inicial):\n",
    "    \n",
    "    def sumar(x):\n",
    "        return valor_inicial + x\n",
    "    return sumar\n",
    "\n",
    "\n",
    "sumar_con_10 = suma_inicial(10)\n",
    "\n",
    "\n",
    "print(sumar_con_10(5)) \n",
    "print(sumar_con_10(3))  \n",
    "print(sumar_con_10(8))\n",
    "\n"
   ]
  },
  {
   "cell_type": "markdown",
   "metadata": {},
   "source": [
    "3.3 Aplicación de Funciones en Problemas Reales\n",
    "Deben investigar y desarrollar ejemplos de casos de uso reales en los que las funciones sean\n",
    "esenciales:\n",
    "✅ Aplicación en estructuras de datos (listas, diccionarios).\n",
    "✅ Uso de funciones en procesamiento de datos.\n",
    "✅ Optimización del rendimiento con funciones.\n",
    "✅ Comparación entre funciones definidas por el usuario y funciones integradas (len(), sum(), etc.)."
   ]
  },
  {
   "cell_type": "code",
   "execution_count": 29,
   "metadata": {},
   "outputs": [
    {
     "name": "stdout",
     "output_type": "stream",
     "text": [
      "[7.2, 8.5, 6.9, 9.0, 6.0]\n"
     ]
    }
   ],
   "source": [
    "#Aplicación en estructuras de datos (listas, diccionarios).\n",
    "#Para obtener calificaciones de estudiantes.\n",
    "calificaciones = [5.4, 7.2, 8.5, 6.9, 4.3, 9.0, 6.0]\n",
    "\n",
    "def es_aprobatoria(calificacion):\n",
    "    return calificacion >= 6.0\n",
    "\n",
    "def obtener_calificaciones_aprobadas(calificaciones):\n",
    "    return list(filter(es_aprobatoria, calificaciones))\n",
    "\n",
    "calificaciones_aprobadas = obtener_calificaciones_aprobadas(calificaciones)\n",
    "\n",
    "print(calificaciones_aprobadas)  "
   ]
  },
  {
   "cell_type": "code",
   "execution_count": 30,
   "metadata": {},
   "outputs": [
    {
     "name": "stdout",
     "output_type": "stream",
     "text": [
      "7.8\n"
     ]
    }
   ],
   "source": [
    "#Uso de funciones en procesamiento de datos.\n",
    "\n",
    "calificaciones = [8.5, 7.2, 9.0, 6.8, 7.5]\n",
    "\n",
    "def calcular_promedio(calificaciones):\n",
    "    return sum(calificaciones) / len(calificaciones)\n",
    "\n",
    "promedio = calcular_promedio(calificaciones)\n",
    "\n",
    "print(promedio) "
   ]
  },
  {
   "cell_type": "markdown",
   "metadata": {},
   "source": [
    "En Python, una función interna es una función que se define dentro de otra función. Este tipo de función puede acceder y actualizar nombres en la función que la contiene, que es el ámbito no local."
   ]
  },
  {
   "cell_type": "code",
   "execution_count": null,
   "metadata": {},
   "outputs": [],
   "source": [
    "#Optimización del rendimiento con funciones.\n",
    ">>> def outer_func():\n",
    "...     name = \"Pythonista\"\n",
    "...     def inner_func():\n",
    "...         print(f\"Hello, {name}!\")\n",
    "...     inner_func()\n",
    "...\n",
    "\n",
    ">>> outer_func()\n",
    "Hello, Pythonista!\n",
    "\n",
    ">>> greeter = outer_func()\n",
    ">>> print(greeter)\n",
    "None\n"
   ]
  },
  {
   "cell_type": "code",
   "execution_count": 2,
   "metadata": {},
   "outputs": [
    {
     "name": "stdout",
     "output_type": "stream",
     "text": [
      "13\n",
      "15\n"
     ]
    }
   ],
   "source": [
    "#Comparación entre funciones definidas por el usuario y funciones integradas (len(), sum(), etc.).\n",
    "string = \"Hello, World!\"\n",
    "print(len(string))  \n",
    "\n",
    "#vrs \n",
    "\n",
    "numbers = [1, 2, 3, 4, 5]\n",
    "print(sum(numbers))  \n"
   ]
  },
  {
   "cell_type": "markdown",
   "metadata": {},
   "source": [
    "## 📊 Sección 3: Conclusiones Concluir su notebook con:\n"
   ]
  },
  {
   "cell_type": "markdown",
   "metadata": {},
   "source": [
    "✅ Resumen:\n",
    "Las funciones son elementos muy importantes dentro del manejo del código Python, es necesario manejarlo y entenderlo para poder aplicarlo de manera y oportuna. Sus beneficios van desde aprendizaje automático para las tecnologías actuales, investigación operativa por medio de la maximización o minimización de métricas empresariales. Dentro del ambiente de las finanzas también es muy provechoso debido a la determinación de una mejor estrategias relacionados con los rendimientos. Por otro lado en el ambiente de la ingeniería se pueden optimizar diseños y estructuras."
   ]
  },
  {
   "cell_type": "markdown",
   "metadata": {},
   "source": [
    "✅ Análisis personal:\n",
    "Existe una gran variedad de funciones en Python que se pueden aplicar de distintas formas y generar soluciones de manera adecuada para los casos cotidianos dentro del desarrollo informático, de una organizacion o para simple uso personal. \n",
    "La aplicación de las funciones y como se apliquen pueden hacer gran diferencia en los resultados y en el rendimiento del codigo, por eso es necesario conocer todas las opciones que existen disponibles para identificar en que momento son mas adecuadas. "
   ]
  },
  {
   "cell_type": "markdown",
   "metadata": {},
   "source": [
    "✅ Referencias\n",
    "\n",
    "Kurtis Pykes. 2024. Optimización en Python: Técnicas, Paquetes y Buenas Prácticas. https://www.datacamp.com/es/tutorial/optimization-in-python\n",
    "\n",
    "11-02-2025. Funciones de Python: tipos, ventajas y ejemplos. https://www.wscubetech.com/resources/python/functions\n",
    "\n",
    "Funciones incorporadas. https://docs.python.org/es/3.13/library/functions.html#float\n"
   ]
  }
 ],
 "metadata": {
  "kernelspec": {
   "display_name": "Python 3",
   "language": "python",
   "name": "python3"
  },
  "language_info": {
   "codemirror_mode": {
    "name": "ipython",
    "version": 3
   },
   "file_extension": ".py",
   "mimetype": "text/x-python",
   "name": "python",
   "nbconvert_exporter": "python",
   "pygments_lexer": "ipython3",
   "version": "3.12.8"
  }
 },
 "nbformat": 4,
 "nbformat_minor": 2
}
