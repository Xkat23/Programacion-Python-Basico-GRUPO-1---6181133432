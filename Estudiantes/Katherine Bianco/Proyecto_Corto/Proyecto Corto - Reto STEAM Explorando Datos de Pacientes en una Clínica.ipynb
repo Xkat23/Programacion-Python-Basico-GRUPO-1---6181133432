{
 "cells": [
  {
   "cell_type": "markdown",
   "metadata": {
    "azdata_cell_guid": "e738b43d-fda9-409b-9e4e-f356323e1dbc"
   },
   "source": [
    "# Proyecto Corto: Explorando Datos de Pacientes en una Clínica\n",
    "## Programacion Python Basico | ICAI - UNA\n",
    "## Profesor: Ing. Andrés Mena Abarca\n",
    "### <mark>**Nombre del estudiante: Katherine Bianco Vega**</mark> \n",
    "* * *"
   ]
  },
  {
   "attachments": {},
   "cell_type": "markdown",
   "metadata": {
    "azdata_cell_guid": "5a9661f6-9c22-438b-8530-debb92fea2ff"
   },
   "source": [
    "¡Bienvenidos al reto STEAM! Hoy serás parte de un equipo de científicos de datos que está desarrollando una aplicación para analizar los datos de los pacientes de una clínica. Este proyecto se integra dentro del enfoque STEAM, donde no solo usaremos habilidades de programación y análisis, sino también creatividad, visualización y reflexión crítica para mejorar la experiencia de salud.\n",
    "\n",
    "En este reto, utilizaremos **Python** para analizar datos clínicos reales y responder preguntas importantes sobre la salud de los pacientes. También diseñarás soluciones creativas y colaborarás con tus compañeros para mejorar la aplicación.\n",
    "\n",
    "### Contexto:\n",
    "\n",
    "El director de la clínica te ha encargado que construyas un sistema que pueda analizar la información de los pacientes, entender las enfermedades tratadas, los medicamentos recetados y comparar pacientes.\n",
    "\n",
    "### Objetivos del Reto:\n",
    "1. Aplicar estructuras básicas de Python como listas y ciclos.\n",
    "2. Leer datos desde un archivo JSON y almacenarlos en listas.\n",
    "3. Realizar análisis de datos sobre enfermedades y medicamentos.\n",
    "4. Visualizar y comunicar los resultados de manera creativa.\n",
    "\n",
    "### Fase Creativa STEAM:\n",
    "- **Ciencia y Tecnología:** Analizarás los datos clínicos.\n",
    "- **Ingeniería:** Implementarás las soluciones utilizando estructuras de Python.\n",
    "- **Arte y Matemáticas:** Visualizarás los resultados de manera atractiva y clara.\n",
    "\n",
    "¡Comencemos!\n",
    "\n",
    "## Cargar y Leer los Datos de Pacientes"
   ]
  },
  {
   "cell_type": "code",
   "execution_count": 1,
   "metadata": {
    "azdata_cell_guid": "65553934-e4e4-4b44-aa2e-b234d1a33667",
    "language": "python"
   },
   "outputs": [
    {
     "name": "stdout",
     "output_type": "stream",
     "text": [
      "[['123', 89076541, 'Heredia', 'Barva', 'gripe', 'acetaminofen'], ['321', 31321321, 'Cartago', 'Pacayas', 'gastritis', 'antiacido'], ['456', 87539856, 'San Jose', 'Pavas', 'tos', 'jarabe'], ['789', 45522221, 'Limón', 'Puerto Viejo', 'migraña', 'acetaminofen'], ['345', 45354632, 'Guanacaste', 'Liberia', 'dolor', 'acetaminofen'], ['123', 89076541, 'Heredia', 'Barva', 'migraña', 'acetaminofen'], ['456', 87539856, 'San Jose', 'Pavas', 'dolor', 'acetaminofen'], ['456', 87539856, 'San Jose', 'Pavas', 'dolor', 'jarabe'], ['345', 45354632, 'Guanacaste', 'Liberia', 'gripe', 'acetaminofen'], ['789', 45522221, 'Limón', 'Puerto Viejo', 'presion', 'acetaminofen']]\n"
     ]
    }
   ],
   "source": [
    "# import json file\n",
    "import json\n",
    "\n",
    "with open('clinica.json', encoding='utf-8') as archivo:\n",
    "    datos = json.load(archivo)\n",
    "\n",
    "\n",
    "print(datos)"
   ]
  },
  {
   "attachments": {},
   "cell_type": "markdown",
   "metadata": {
    "azdata_cell_guid": "27d04572-8b5b-46fa-b3ee-4ed3f2939a34",
    "language": "python"
   },
   "source": [
    "## Desafío 1: Análisis Científico - Reporte de Enfermedades Tratadas\n",
    "\n",
    "Tu primer reto es analizar los datos de los pacientes para generar un reporte de las enfermedades tratadas en la clínica. Utiliza listas y ciclos para contar cuántos pacientes han sido tratados por cada enfermedad.\n",
    "\n",
    "### Instrucciones:\n",
    "\n",
    "1. Crea una lista vacía donde almacenarás las enfermedades.\n",
    "2. Recorre los datos de los pacientes y extrae la enfermedad de cada paciente.\n",
    "3. Cuenta cuántos pacientes han sido tratados por cada enfermedad.\n",
    "4. Visualiza los resultados de manera clara utilizando la técnica que elijas (gráficos o tablas).\n",
    "\n",
    "### Preguntas:\n",
    "\n",
    "- ¿Qué enfermedades son las más tratadas en la clínica?\n",
    "- ¿Hay alguna enfermedad que te sorprenda por su prevalencia?\n",
    "\n"
   ]
  },
  {
   "attachments": {},
   "cell_type": "markdown",
   "metadata": {
    "azdata_cell_guid": "4b7c571d-d8f2-4d72-9f79-9718986200eb"
   },
   "source": [
    "### **Paso a Paso para el Estudiante**\n",
    "\n",
    "#### **Paso 1: Crear las Listas**\n",
    "\n",
    "### \n",
    "\n",
    "1. **Objetivo:** Necesitamos dos listas para almacenar:\n",
    "    \n",
    "    - Los nombres de las enfermedades.\n",
    "    - La cantidad de veces que cada enfermedad aparece.\n",
    "2. **Instrucción:**\n",
    "    \n",
    "    - Crea una lista vacía llamada `lista_enfermedades`.\n",
    "    - Crea otra lista vacía llamada `lista_cantidades`."
   ]
  },
  {
   "cell_type": "code",
   "execution_count": 40,
   "metadata": {
    "azdata_cell_guid": "61977840-044f-4cb3-858a-1812c43f3e2b",
    "language": "python"
   },
   "outputs": [],
   "source": [
    "# Lista para almacenar las enfermedades y sus cantidades\n",
    "\n",
    "lista_enfermedades = []\n",
    "\n",
    "lista_cantidades = []"
   ]
  },
  {
   "attachments": {},
   "cell_type": "markdown",
   "metadata": {
    "azdata_cell_guid": "549b6c62-76c6-4412-ae94-4d7a0ebd790d"
   },
   "source": [
    "#### **Paso 2: Recorrer los Datos de los Pacientes**\n",
    "\n",
    "### \n",
    "\n",
    "1. **Objetivo:** Vamos a analizar cada paciente para extraer su enfermedad.\n",
    "    \n",
    "2. **Instrucción:**\n",
    "    \n",
    "    - Usa un bucle `for` para recorrer cada `paciente` en `datos_pacientes` (ya está definida en el código como una lista de listas).\n",
    "    - Dentro del bucle, asigna la enfermedad del paciente (índice `4` de cada lista) a una variable llamada `enfermedad`."
   ]
  },
  {
   "cell_type": "code",
   "execution_count": 2,
   "metadata": {},
   "outputs": [
    {
     "name": "stdout",
     "output_type": "stream",
     "text": [
      "gripe\n",
      "gastritis\n",
      "tos\n",
      "migraña\n",
      "dolor\n",
      "migraña\n",
      "dolor\n",
      "dolor\n",
      "gripe\n",
      "presion\n"
     ]
    }
   ],
   "source": [
    "# Extraemos la enfermedad del paciente\n",
    "for paciente in datos:\n",
    "\n",
    "#Imprimir el for \n",
    "    enfermedad = paciente[4]\n",
    "    print(enfermedad)\n"
   ]
  },
  {
   "attachments": {},
   "cell_type": "markdown",
   "metadata": {
    "azdata_cell_guid": "d587b0f6-79f4-4a71-bcaf-837bd0c31bee",
    "language": "python"
   },
   "source": [
    "#### **Paso 3: Verificar si la Enfermedad ya Está en la Lista**\n",
    "\n",
    "1. **Objetivo:** Verificar si la enfermedad ya fue registrada.\n",
    "    \n",
    "2. **Instrucción:**\n",
    "    \n",
    "    - Usa un `if` para verificar si la `enfermedad` ya está en `lista_enfermedades`.\n",
    "    - Si **no** está en `lista_enfermedades`, agrega la enfermedad a `lista_enfermedades` y añade `1` a `lista_cantidades` para contarla por primera vez.\n",
    "    - Si **sí** está en `lista_enfermedades`, encuentra la posición (`indice`) de la enfermedad en `lista_enfermedades` y aumenta en `1` el valor en `lista_cantidades` en la misma posición."
   ]
  },
  {
   "cell_type": "code",
   "execution_count": 33,
   "metadata": {
    "azdata_cell_guid": "f5cffccc-7f3a-45f8-b203-53faac8d2ab0",
    "language": "python"
   },
   "outputs": [
    {
     "name": "stdout",
     "output_type": "stream",
     "text": [
      "\n",
      "Conteo de todas las enfermedades registradas:\n",
      "Enfermedad: gripe, Número de Pacientes: 2\n",
      "Enfermedad: gastritis, Número de Pacientes: 1\n",
      "Enfermedad: tos, Número de Pacientes: 1\n",
      "Enfermedad: migraña, Número de Pacientes: 2\n",
      "Enfermedad: dolor, Número de Pacientes: 3\n",
      "Enfermedad: presion, Número de Pacientes: 1\n"
     ]
    }
   ],
   "source": [
    "# Listas para almacenar las enfermedades y sus cantidades\n",
    "lista_enfermedades = []\n",
    "lista_cantidades = []\n",
    "\n",
    "# Recorremos cada paciente\n",
    "for paciente in datos:\n",
    "    enfermedad = paciente[4].lower()  # Extraemos la enfermedad (índice 4) y la convertimos a minúsculas\n",
    "    \n",
    "    # Verificamos si la enfermedad ya está en la lista\n",
    "    if enfermedad in lista_enfermedades:\n",
    "        # Si ya está, aumentamos el contador en la lista_cantidades\n",
    "        indice = lista_enfermedades.index(enfermedad)\n",
    "        lista_cantidades[indice] += 1\n",
    "    else:\n",
    "        # Si no está, la agregamos a lista_enfermedades y su cantidad a lista_cantidades\n",
    "        lista_enfermedades.append(enfermedad)\n",
    "        lista_cantidades.append(1)"
   ]
  },
  {
   "attachments": {},
   "cell_type": "markdown",
   "metadata": {
    "azdata_cell_guid": "2ceed8f4-0a9a-48ac-ba0d-d48dc319ab9f",
    "language": "python"
   },
   "source": [
    "#### **Paso 4: Imprimir el Reporte Final**\n",
    "\n",
    "1. **Objetivo:** Mostrar el número de pacientes con cada enfermedad.\n",
    "    \n",
    "2. **Instrucción:**\n",
    "    \n",
    "    - Usa un bucle `for` para recorrer la lista `lista_enfermedades`.\n",
    "    - En cada iteración, imprime la enfermedad y el número de pacientes (que está en `lista_cantidades` en la misma posición)."
   ]
  },
  {
   "cell_type": "code",
   "execution_count": 26,
   "metadata": {
    "azdata_cell_guid": "5368c6bd-5224-4c6f-a5ad-ef6767750039",
    "language": "python"
   },
   "outputs": [
    {
     "name": "stdout",
     "output_type": "stream",
     "text": [
      "Primer paciente: 123\n",
      "Provincia: Heredia\n",
      "Ciudad: Barva\n",
      "Enfermedad: gripe\n",
      "Medicamento: acetaminofen\n"
     ]
    }
   ],
   "source": [
    "# Recorremos cada paciente\n",
    "for paciente in lista_enfermedades:\n",
    "    enfermedad = paciente[4].lower() \n",
    "\n",
    "# Accedemos al primer elemento de la lista \"personas\"\n",
    "primer_paciente = datos[0]\n",
    "\n",
    "# Accedemos a los atributos de la primera persona\n",
    "identificacion = primer_paciente[0]\n",
    "provincia = primer_paciente[2]\n",
    "ciudad = primer_paciente[3]\n",
    "enfermedad = primer_paciente[4]\n",
    "medicamento = primer_paciente[5]\n",
    "\n",
    "print(f\"Primer paciente: {identificacion}\")\n",
    "print(f\"Provincia: {provincia}\")\n",
    "print(f\"Ciudad: {ciudad}\")\n",
    "print(f\"Enfermedad: {enfermedad}\")\n",
    "print(f\"Medicamento: {medicamento}\")"
   ]
  },
  {
   "cell_type": "code",
   "execution_count": 28,
   "metadata": {},
   "outputs": [
    {
     "name": "stdout",
     "output_type": "stream",
     "text": [
      "Cantidad de pacientes: 10\n"
     ]
    }
   ],
   "source": [
    "# Calcular la cantidad total de pacientes\n",
    "cantidad_pacientes = len(datos)\n",
    "\n",
    "# Imprimir la cantidad total de pacientes\n",
    "print(f\"Cantidad de pacientes: {cantidad_pacientes}\")"
   ]
  },
  {
   "attachments": {},
   "cell_type": "markdown",
   "metadata": {
    "azdata_cell_guid": "02262547-dabe-40b9-9ef0-5863dcad648b",
    "language": "python"
   },
   "source": [
    "### **Resumen Completo del Código**\n",
    "\n",
    "En ésta celda resume el código completo que debería tener al final para la solución del ejercicio:"
   ]
  },
  {
   "cell_type": "code",
   "execution_count": 40,
   "metadata": {
    "azdata_cell_guid": "fb7ea25e-c906-4f7e-9265-dd63d3193b54",
    "language": "python"
   },
   "outputs": [
    {
     "name": "stdout",
     "output_type": "stream",
     "text": [
      "[['123', 89076541, 'Heredia', 'Barva', 'gripe', 'acetaminofen'], ['321', 31321321, 'Cartago', 'Pacayas', 'gastritis', 'antiacido'], ['456', 87539856, 'San Jose', 'Pavas', 'tos', 'jarabe'], ['789', 45522221, 'Limón', 'Puerto Viejo', 'migraña', 'acetaminofen'], ['345', 45354632, 'Guanacaste', 'Liberia', 'dolor', 'acetaminofen'], ['123', 89076541, 'Heredia', 'Barva', 'migraña', 'acetaminofen'], ['456', 87539856, 'San Jose', 'Pavas', 'dolor', 'acetaminofen'], ['456', 87539856, 'San Jose', 'Pavas', 'dolor', 'jarabe'], ['345', 45354632, 'Guanacaste', 'Liberia', 'gripe', 'acetaminofen'], ['789', 45522221, 'Limón', 'Puerto Viejo', 'presion', 'acetaminofen']]\n",
      "\n",
      "Conteo de todas las enfermedades registradas:\n",
      "Enfermedad: gripe, Número de Pacientes: 2\n",
      "Enfermedad: gastritis, Número de Pacientes: 1\n",
      "Enfermedad: tos, Número de Pacientes: 1\n",
      "Enfermedad: migraña, Número de Pacientes: 2\n",
      "Enfermedad: dolor, Número de Pacientes: 3\n",
      "Enfermedad: presion, Número de Pacientes: 1\n"
     ]
    }
   ],
   "source": [
    "import json\n",
    "\n",
    "with open('clinica.json', encoding='utf-8') as archivo:\n",
    "    datos = json.load(archivo)\n",
    "\n",
    "print(datos)\n",
    "\n",
    "# Listas para almacenar las enfermedades y sus cantidades\n",
    "lista_enfermedades = []\n",
    "lista_cantidades = []\n",
    "\n",
    "# Recorremos cada paciente\n",
    "for paciente in datos:\n",
    "    enfermedad = paciente[4].lower()  # Extraemos la enfermedad (índice 4) y la convertimos a minúsculas\n",
    "    \n",
    "    # Verificamos si la enfermedad ya está en la lista\n",
    "    if enfermedad in lista_enfermedades:\n",
    "        # Si ya está, aumentamos el contador en la lista_cantidades\n",
    "        indice = lista_enfermedades.index(enfermedad)\n",
    "        lista_cantidades[indice] += 1\n",
    "    else:\n",
    "        # Si no está, la agregamos a lista_enfermedades y su cantidad a lista_cantidades\n",
    "        lista_enfermedades.append(enfermedad)\n",
    "        lista_cantidades.append(1)\n",
    "    \n",
    "\n",
    "print(\"\\nConteo de todas las enfermedades registradas:\")\n",
    "for i in range(len(lista_enfermedades)):\n",
    "    enfermedad = lista_enfermedades[i]\n",
    "    cantidad = lista_cantidades[i]\n",
    "    print(f'Enfermedad: {enfermedad}, Número de Pacientes: {cantidad}')"
   ]
  },
  {
   "attachments": {},
   "cell_type": "markdown",
   "metadata": {
    "azdata_cell_guid": "babcfd28-f173-4adb-b593-c5cf58370bc0",
    "language": "python"
   },
   "source": [
    "## Desafío 2: Exploración Tecnológica - Reporte de Medicamentos Recetados\n",
    "\n",
    "Ahora que ya tienes el reporte de las enfermedades tratadas, es momento de explorar qué medicamentos se están recetando en la clínica. Tu tarea es generar un reporte similar al anterior, pero esta vez debes contar cuántos pacientes han recibido cada medicamento.\n",
    "\n",
    "### Instrucciones:\n",
    "\n",
    "1. Almacena los medicamentos recetados en una lista.\n",
    "2. Recorre los datos y cuenta cuántos pacientes han recibido cada medicamento.\n",
    "3. Visualiza los resultados de manera creativa.\n",
    "\n",
    "### Preguntas:\n",
    "\n",
    "- ¿Qué medicamentos son los más recetados?\n",
    "- ¿Cómo podrías optimizar el uso de medicamentos en la clínica?\n",
    "\n",
    "Resultados esperados: \n",
    "\n",
    "```\n",
    "Reporte de medicamentos recetados:\n",
    "acetaminofen: 9 pacientes\n",
    "antiácido: 2 pacientes\n",
    "jarabe: 2 pacientes\n",
    "insulina: 3 pacientes\n",
    "salbutamol: 4 pacientes\n",
    "levotiroxina: 2 pacientes\n",
    "............................................\n",
    "\n",
    "```"
   ]
  },
  {
   "cell_type": "code",
   "execution_count": 58,
   "metadata": {
    "azdata_cell_guid": "85051147-a5a3-40e9-a423-179ac721be03",
    "language": "python"
   },
   "outputs": [
    {
     "name": "stdout",
     "output_type": "stream",
     "text": [
      "\n",
      "Conteo de todos los medicamentos registrados:\n",
      "Medicamento: acetaminofen, Número de Pacientes: 7\n",
      "Medicamento: antiacido, Número de Pacientes: 1\n",
      "Medicamento: jarabe, Número de Pacientes: 2\n"
     ]
    }
   ],
   "source": [
    "medicamentos = []\n",
    "frecuencias = []\n",
    "\n",
    "for paciente in datos:\n",
    "    medicamento = paciente[5].lower() \n",
    "    \n",
    "    if medicamento in medicamentos:\n",
    "        indice = medicamentos.index(medicamento)\n",
    "        frecuencias[indice] += 1\n",
    "    else:\n",
    "        medicamentos.append(medicamento)\n",
    "        frecuencias.append(1)\n",
    "\n",
    "print(\"\\nConteo de todos los medicamentos registrados:\")\n",
    "for i in range(len(medicamentos)):\n",
    "    medicamento = medicamentos[i]\n",
    "    cantidad = frecuencias[i]\n",
    "    print(f'Medicamento: {medicamento}, Número de Pacientes: {cantidad}')"
   ]
  },
  {
   "attachments": {},
   "cell_type": "markdown",
   "metadata": {
    "azdata_cell_guid": "e75d82f8-c903-459c-b6b4-3cdc9d23ac5c"
   },
   "source": [
    "## Desafío 3: Ingeniería - Comparar Pacientes por Identificación\n",
    "\n",
    "Este desafío te permitirá comparar dos pacientes de la clínica en base a sus identificaciones. Tu objetivo es averiguar:\n",
    "\n",
    "1. **¿Qué enfermedades tienen en común?**\n",
    "2. **¿Qué medicamentos toman en común?**\n",
    "\n",
    "### Instrucciones:\n",
    "\n",
    "1. Solicita dos identificaciones de pacientes al usuario.\n",
    "2. Extrae las enfermedades y medicamentos de esos dos pacientes.\n",
    "3. Compara las enfermedades y medicamentos y muestra los resultados.\n",
    "\n",
    "### Preguntas:\n",
    "\n",
    "- ¿Qué enfermedades y medicamentos son comunes en los pacientes comparados?\n",
    "- ¿Qué información adicional podrías incluir para mejorar esta comparación?\n"
   ]
  },
  {
   "cell_type": "code",
   "execution_count": 39,
   "metadata": {
    "azdata_cell_guid": "26417c6c-aa5d-41a9-b7c7-fa268a476a6d",
    "language": "python",
    "tags": []
   },
   "outputs": [
    {
     "name": "stdout",
     "output_type": "stream",
     "text": [
      "\n",
      "Enfermedades en común entre 89076541 y 87539856: Ninguna\n",
      "Medicamentos en común entre 89076541 y 87539856: Ninguno\n"
     ]
    }
   ],
   "source": [
    "import json\n",
    "\n",
    "with open('clinica.json', encoding='utf-8') as archivo:\n",
    "    datos = json.load(archivo)\n",
    "    \n",
    "paciente1_id = input(\"Ingrese la identificación del primer participante: \")\n",
    "paciente2_id = input(\"Ingrese la identificación del segundo participante: \")\n",
    "\n",
    "paciente1_enfermedades = []\n",
    "paciente1_medicamentos = []\n",
    "paciente2_enfermedades = []\n",
    "paciente2_medicamentos = []\n",
    "\n",
    "for paciente in datos:\n",
    "    identificacion = str(paciente[0])  \n",
    "    enfermedad = paciente[4].lower()  \n",
    "    medicamento = paciente[5].lower()  \n",
    "    \n",
    "    if identificacion == paciente1_id:\n",
    "        paciente1_enfermedades.append(enfermedad)\n",
    "        paciente1_medicamentos.append(medicamento)\n",
    "    \n",
    "    if identificacion == paciente2_id:\n",
    "        paciente2_enfermedades.append(enfermedad)\n",
    "        paciente2_medicamentos.append(medicamento)\n",
    "\n",
    "enfermedades_comunes = list(set(paciente1_enfermedades) & set(paciente2_enfermedades))\n",
    "medicamentos_comunes = list(set(paciente1_medicamentos) & set(paciente2_medicamentos))\n",
    "\n",
    "print(f\"\\nEnfermedades en común entre {paciente1_id} y {paciente2_id}: {', '.join(enfermedades_comunes) if enfermedades_comunes else 'Ninguna'}\")\n",
    "print(f\"Medicamentos en común entre {paciente1_id} y {paciente2_id}: {', '.join(medicamentos_comunes) if medicamentos_comunes else 'Ninguno'}\")"
   ]
  },
  {
   "attachments": {},
   "cell_type": "markdown",
   "metadata": {
    "azdata_cell_guid": "ac71941a-8e0d-4ea1-98ff-b293ecd8defb",
    "language": "python"
   },
   "source": [
    "## Desafío Final: Arte y Matemáticas - Visualización Creativa y Reflexión\n",
    "\n",
    "Has llegado al último desafío, ¡felicidades! Ahora es momento de presentar tus resultados de una forma creativa. Tu tarea será utilizar **gráficos**, **tablas** o incluso **arte digital** para mostrar tus descubrimientos sobre los datos de los pacientes de la clínica.\n",
    "\n",
    "\n",
    "### Preguntas:\n",
    "\n",
    "- ¿Qué patrones encontraste en los datos?\n",
    "- ¿Cómo podrías usar estos análisis para mejorar la atención de los pacientes?"
   ]
  },
  {
   "cell_type": "code",
   "execution_count": 35,
   "metadata": {},
   "outputs": [
    {
     "name": "stdout",
     "output_type": "stream",
     "text": [
      "  Identificación  Número de cédula   Provincia        Ciudad Enfermedad  \\\n",
      "0            123          89076541     Heredia         Barva      gripe   \n",
      "1            321          31321321     Cartago       Pacayas  gastritis   \n",
      "2            456          87539856    San Jose         Pavas        tos   \n",
      "3            789          45522221       Limón  Puerto Viejo    migraña   \n",
      "4            345          45354632  Guanacaste       Liberia      dolor   \n",
      "5            123          89076541     Heredia         Barva    migraña   \n",
      "6            456          87539856    San Jose         Pavas      dolor   \n",
      "7            456          87539856    San Jose         Pavas      dolor   \n",
      "8            345          45354632  Guanacaste       Liberia      gripe   \n",
      "9            789          45522221       Limón  Puerto Viejo    presion   \n",
      "\n",
      "    Medicamento  \n",
      "0  acetaminofen  \n",
      "1     antiacido  \n",
      "2        jarabe  \n",
      "3  acetaminofen  \n",
      "4  acetaminofen  \n",
      "5  acetaminofen  \n",
      "6  acetaminofen  \n",
      "7        jarabe  \n",
      "8  acetaminofen  \n",
      "9  acetaminofen  \n"
     ]
    }
   ],
   "source": [
    "import pandas as pd\n",
    "\n",
    "# Convertir los datos a un DataFrame de pandas\n",
    "df = pd.DataFrame(datos, columns=[\"Identificación\", \"Número de cédula\", \"Provincia\", \"Ciudad\", \"Enfermedad\", \"Medicamento\"])\n",
    "\n",
    "# Mostrar la tabla completa\n",
    "print(df)"
   ]
  },
  {
   "cell_type": "code",
   "execution_count": 36,
   "metadata": {},
   "outputs": [
    {
     "name": "stdout",
     "output_type": "stream",
     "text": [
      "\n",
      "Conteo de enfermedades:\n",
      "  Enfermedad  Cantidad de pacientes\n",
      "0      dolor                      3\n",
      "1      gripe                      2\n",
      "2    migraña                      2\n",
      "3  gastritis                      1\n",
      "4        tos                      1\n",
      "5    presion                      1\n"
     ]
    }
   ],
   "source": [
    "conteo_enfermedades = df['Enfermedad'].value_counts().reset_index()\n",
    "conteo_enfermedades.columns = ['Enfermedad', 'Cantidad de pacientes']\n",
    "\n",
    "print(\"\\nConteo de enfermedades:\")\n",
    "print(conteo_enfermedades)"
   ]
  },
  {
   "cell_type": "markdown",
   "metadata": {},
   "source": [
    "## Conclusiones de la investigación.\n",
    "### El dolor es la enfermedad mas común.\n",
    "### La migraña y la gripe son las enfermedades mas comunes despues del dolor."
   ]
  },
  {
   "cell_type": "code",
   "execution_count": 37,
   "metadata": {},
   "outputs": [
    {
     "name": "stdout",
     "output_type": "stream",
     "text": [
      "\n",
      "Conteo de medicamentos:\n",
      "    Medicamento  Cantidad de pacientes\n",
      "0  acetaminofen                      7\n",
      "1        jarabe                      2\n",
      "2     antiacido                      1\n"
     ]
    }
   ],
   "source": [
    "df = pd.DataFrame(datos, columns=[\"Identificación\", \"Número de cédula\", \"Provincia\", \"Ciudad\", \"Enfermedad\", \"Medicamento\"])\n",
    "\n",
    "conteo_medicamentos = df['Medicamento'].value_counts().reset_index()\n",
    "conteo_medicamentos.columns = ['Medicamento', 'Cantidad de pacientes']\n",
    "\n",
    "print(\"\\nConteo de medicamentos:\")\n",
    "print(conteo_medicamentos)"
   ]
  },
  {
   "cell_type": "markdown",
   "metadata": {},
   "source": [
    "### La acetaminofen fue el medicamento más recetado para los pacientes."
   ]
  }
 ],
 "metadata": {
  "kernelspec": {
   "display_name": "Python 3",
   "language": "python",
   "name": "python3"
  },
  "language_info": {
   "codemirror_mode": {
    "name": "ipython",
    "version": 3
   },
   "file_extension": ".py",
   "mimetype": "text/x-python",
   "name": "python",
   "nbconvert_exporter": "python",
   "pygments_lexer": "ipython3",
   "version": "3.12.8"
  }
 },
 "nbformat": 4,
 "nbformat_minor": 2
}
